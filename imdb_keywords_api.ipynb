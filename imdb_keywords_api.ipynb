{
  "nbformat": 4,
  "nbformat_minor": 0,
  "metadata": {
    "colab": {
      "name": "imdb_keywords_api.ipynb",
      "provenance": [],
      "collapsed_sections": []
    },
    "kernelspec": {
      "name": "python3",
      "display_name": "Python 3"
    },
    "language_info": {
      "name": "python"
    }
  },
  "cells": [
    {
      "cell_type": "markdown",
      "metadata": {
        "id": "laePvFd216Xt"
      },
      "source": [
        "## Importing necessary libraries:"
      ]
    },
    {
      "cell_type": "code",
      "metadata": {
        "colab": {
          "base_uri": "https://localhost:8080/"
        },
        "id": "fZuGFk29gRC9",
        "outputId": "060f85f0-668b-44d2-b0ca-3fef5816c28d"
      },
      "source": [
        "from google.colab import drive\n",
        "import pandas as pd\n",
        "import numpy as np\n",
        "from tqdm import tqdm\n",
        "from time import sleep\n",
        "drive.mount('/content/drive')"
      ],
      "execution_count": 1,
      "outputs": [
        {
          "output_type": "stream",
          "text": [
            "Mounted at /content/drive\n"
          ],
          "name": "stdout"
        }
      ]
    },
    {
      "cell_type": "markdown",
      "metadata": {
        "id": "QIWWKeFz1_MH"
      },
      "source": [
        "## Installing imdbpy "
      ]
    },
    {
      "cell_type": "code",
      "metadata": {
        "id": "t530Z1Gsg4wx",
        "colab": {
          "base_uri": "https://localhost:8080/"
        },
        "outputId": "9be721ff-690a-4473-b9d3-57a55ca02d52"
      },
      "source": [
        "!pip install imdbpy\n",
        "from imdb import IMDb"
      ],
      "execution_count": 2,
      "outputs": [
        {
          "output_type": "stream",
          "text": [
            "Collecting imdbpy\n",
            "\u001b[?25l  Downloading https://files.pythonhosted.org/packages/93/49/1d6c29154deed34de46340bf968839a63639f1b23b6f7402b861a222376c/IMDbPY-2021.4.18-py3-none-any.whl (298kB)\n",
            "\u001b[K     |████████████████████████████████| 307kB 3.0MB/s \n",
            "\u001b[?25hRequirement already satisfied: lxml in /usr/local/lib/python3.7/dist-packages (from imdbpy) (4.2.6)\n",
            "Requirement already satisfied: SQLAlchemy in /usr/local/lib/python3.7/dist-packages (from imdbpy) (1.4.15)\n",
            "Requirement already satisfied: importlib-metadata; python_version < \"3.8\" in /usr/local/lib/python3.7/dist-packages (from SQLAlchemy->imdbpy) (4.0.1)\n",
            "Requirement already satisfied: greenlet!=0.4.17; python_version >= \"3\" in /usr/local/lib/python3.7/dist-packages (from SQLAlchemy->imdbpy) (1.1.0)\n",
            "Requirement already satisfied: typing-extensions>=3.6.4; python_version < \"3.8\" in /usr/local/lib/python3.7/dist-packages (from importlib-metadata; python_version < \"3.8\"->SQLAlchemy->imdbpy) (3.7.4.3)\n",
            "Requirement already satisfied: zipp>=0.5 in /usr/local/lib/python3.7/dist-packages (from importlib-metadata; python_version < \"3.8\"->SQLAlchemy->imdbpy) (3.4.1)\n",
            "Installing collected packages: imdbpy\n",
            "Successfully installed imdbpy-2021.4.18\n"
          ],
          "name": "stdout"
        }
      ]
    },
    {
      "cell_type": "markdown",
      "metadata": {
        "id": "G5iYB9jY2HYE"
      },
      "source": [
        "## Reading Input:\n",
        "#### We only do a test run with 100 movie IDs here. you can also pass the whole data as input."
      ]
    },
    {
      "cell_type": "code",
      "metadata": {
        "id": "Nhl2ZizogGU3",
        "colab": {
          "base_uri": "https://localhost:8080/",
          "height": 612
        },
        "outputId": "63c14060-1353-464b-a0f5-7dc9a2e2eb0a"
      },
      "source": [
        "movie_df = pd.read_csv('/content/drive/MyDrive/imdb_datasets/imdb_movies.csv', low_memory=False)\n",
        "movie_df.set_index('movie_id', inplace=True)\n",
        "movie_df = movie_df[movie_df['country'].str.contains('USA')]\n",
        "movie_df = movie_df.sample(100)\n",
        "movies_index = movie_df.index\n",
        "movie_df.head()"
      ],
      "execution_count": 12,
      "outputs": [
        {
          "output_type": "execute_result",
          "data": {
            "text/html": [
              "<div>\n",
              "<style scoped>\n",
              "    .dataframe tbody tr th:only-of-type {\n",
              "        vertical-align: middle;\n",
              "    }\n",
              "\n",
              "    .dataframe tbody tr th {\n",
              "        vertical-align: top;\n",
              "    }\n",
              "\n",
              "    .dataframe thead th {\n",
              "        text-align: right;\n",
              "    }\n",
              "</style>\n",
              "<table border=\"1\" class=\"dataframe\">\n",
              "  <thead>\n",
              "    <tr style=\"text-align: right;\">\n",
              "      <th></th>\n",
              "      <th>name</th>\n",
              "      <th>org_name</th>\n",
              "      <th>date</th>\n",
              "      <th>title_year</th>\n",
              "      <th>point</th>\n",
              "      <th>point_volume</th>\n",
              "      <th>metascore</th>\n",
              "      <th>user_reviews</th>\n",
              "      <th>critic_reviews</th>\n",
              "      <th>director</th>\n",
              "      <th>writer</th>\n",
              "      <th>story_line</th>\n",
              "      <th>cast</th>\n",
              "      <th>genres</th>\n",
              "      <th>country</th>\n",
              "      <th>language</th>\n",
              "      <th>budget</th>\n",
              "      <th>world_gross</th>\n",
              "      <th>usa_gross</th>\n",
              "      <th>runtime</th>\n",
              "      <th>production_companies</th>\n",
              "      <th>dollar_budget</th>\n",
              "      <th>w_gross_money</th>\n",
              "      <th>u_gross_money</th>\n",
              "      <th>inflation_coeff</th>\n",
              "      <th>casts_id</th>\n",
              "      <th>BlogPage</th>\n",
              "      <th>CompPage</th>\n",
              "      <th>HomePage</th>\n",
              "      <th>release_month</th>\n",
              "      <th>release_day</th>\n",
              "      <th>keywords</th>\n",
              "    </tr>\n",
              "    <tr>\n",
              "      <th>movie_id</th>\n",
              "      <th></th>\n",
              "      <th></th>\n",
              "      <th></th>\n",
              "      <th></th>\n",
              "      <th></th>\n",
              "      <th></th>\n",
              "      <th></th>\n",
              "      <th></th>\n",
              "      <th></th>\n",
              "      <th></th>\n",
              "      <th></th>\n",
              "      <th></th>\n",
              "      <th></th>\n",
              "      <th></th>\n",
              "      <th></th>\n",
              "      <th></th>\n",
              "      <th></th>\n",
              "      <th></th>\n",
              "      <th></th>\n",
              "      <th></th>\n",
              "      <th></th>\n",
              "      <th></th>\n",
              "      <th></th>\n",
              "      <th></th>\n",
              "      <th></th>\n",
              "      <th></th>\n",
              "      <th></th>\n",
              "      <th></th>\n",
              "      <th></th>\n",
              "      <th></th>\n",
              "      <th></th>\n",
              "      <th></th>\n",
              "    </tr>\n",
              "  </thead>\n",
              "  <tbody>\n",
              "    <tr>\n",
              "      <th>tt1877707</th>\n",
              "      <td>The Black Hole</td>\n",
              "      <td>Mind's Eye</td>\n",
              "      <td>2016-12-02</td>\n",
              "      <td>2016.0</td>\n",
              "      <td>2.8</td>\n",
              "      <td>383.0</td>\n",
              "      <td>NaN</td>\n",
              "      <td>22.0</td>\n",
              "      <td>0.0</td>\n",
              "      <td>Mark Steven Grove</td>\n",
              "      <td>Mark Steven Grove</td>\n",
              "      <td>Mattie Carver's world is turning curiouser and...</td>\n",
              "      <td>Malcolm McDowell,Izzie Steele,Natalie Distler,...</td>\n",
              "      <td>Sci-Fi,Thriller</td>\n",
              "      <td>USA</td>\n",
              "      <td>English</td>\n",
              "      <td>$800000</td>\n",
              "      <td>NaN</td>\n",
              "      <td>NaN</td>\n",
              "      <td>111.0</td>\n",
              "      <td>Black Wing Digital,Red Pine Studios,Asgard Ent...</td>\n",
              "      <td>800000.0</td>\n",
              "      <td>NaN</td>\n",
              "      <td>NaN</td>\n",
              "      <td>1.084008</td>\n",
              "      <td>castIDs_not_provided</td>\n",
              "      <td>0</td>\n",
              "      <td>0</td>\n",
              "      <td>0</td>\n",
              "      <td>12.0</td>\n",
              "      <td>2.0</td>\n",
              "      <td>school</td>\n",
              "    </tr>\n",
              "    <tr>\n",
              "      <th>tt0811106</th>\n",
              "      <td>The Ten</td>\n",
              "      <td>The Ten</td>\n",
              "      <td>2008-04-25</td>\n",
              "      <td>2007.0</td>\n",
              "      <td>5.0</td>\n",
              "      <td>16211.0</td>\n",
              "      <td>50.0</td>\n",
              "      <td>114.0</td>\n",
              "      <td>66.0</td>\n",
              "      <td>David Wain</td>\n",
              "      <td>Ken Marino,David Wain</td>\n",
              "      <td>Quirky inter-related stories. Standing by two ...</td>\n",
              "      <td>Paul Rudd,Jon Hamm,Ken Marino,Mather Zickel,Ra...</td>\n",
              "      <td>Comedy,Romance</td>\n",
              "      <td>USA,Mexico</td>\n",
              "      <td>English,Spanish</td>\n",
              "      <td>$5250000</td>\n",
              "      <td>$785528</td>\n",
              "      <td>$769726</td>\n",
              "      <td>96.0</td>\n",
              "      <td>City Lights Pictures,Inverted Film,Jade Films</td>\n",
              "      <td>5250000.0</td>\n",
              "      <td>785528.0</td>\n",
              "      <td>769726.0</td>\n",
              "      <td>1.254971</td>\n",
              "      <td>/name/nm0748620/,/name/nm0358316/,/name/nm0547...</td>\n",
              "      <td>0</td>\n",
              "      <td>0</td>\n",
              "      <td>0</td>\n",
              "      <td>4.0</td>\n",
              "      <td>25.0</td>\n",
              "      <td>police-officer,two-word-title,sabbath,surgeon,...</td>\n",
              "    </tr>\n",
              "    <tr>\n",
              "      <th>tt2249125</th>\n",
              "      <td>The Los Angeles Ripper</td>\n",
              "      <td>The Los Angeles Ripper</td>\n",
              "      <td>2011-08-01</td>\n",
              "      <td>2011.0</td>\n",
              "      <td>3.7</td>\n",
              "      <td>82.0</td>\n",
              "      <td>NaN</td>\n",
              "      <td>1.0</td>\n",
              "      <td>19.0</td>\n",
              "      <td>wridir_not_provided</td>\n",
              "      <td>Celeste Marie Martinez,Craig J. McIntyre</td>\n",
              "      <td>Kristy White moves to Los Angeles to stay with...</td>\n",
              "      <td>Celeste Marie Martinez,Ava Rose,Beverley Basse...</td>\n",
              "      <td>Crime,Horror,Thriller</td>\n",
              "      <td>UK,USA</td>\n",
              "      <td>English</td>\n",
              "      <td>NaN</td>\n",
              "      <td>NaN</td>\n",
              "      <td>NaN</td>\n",
              "      <td>78.0</td>\n",
              "      <td>Moss Stomper Productions,372 Film Production,5x35</td>\n",
              "      <td>NaN</td>\n",
              "      <td>NaN</td>\n",
              "      <td>NaN</td>\n",
              "      <td>1.157113</td>\n",
              "      <td>castIDs_not_provided</td>\n",
              "      <td>0</td>\n",
              "      <td>0</td>\n",
              "      <td>0</td>\n",
              "      <td>8.0</td>\n",
              "      <td>1.0</td>\n",
              "      <td>keys_not_provided</td>\n",
              "    </tr>\n",
              "    <tr>\n",
              "      <th>tt0038157</th>\n",
              "      <td>That's the Spirit</td>\n",
              "      <td>That's the Spirit</td>\n",
              "      <td>1945-06-01</td>\n",
              "      <td>1945.0</td>\n",
              "      <td>7.4</td>\n",
              "      <td>47.0</td>\n",
              "      <td>NaN</td>\n",
              "      <td>5.0</td>\n",
              "      <td>2.0</td>\n",
              "      <td>wridir_not_provided</td>\n",
              "      <td>Michael Fessier,Ernest Pagano</td>\n",
              "      <td>A vaudeville performer returns from the dead t...</td>\n",
              "      <td>Peggy Ryan,June Vincent,Johnny Coy,Arthur Trea...</td>\n",
              "      <td>Comedy,Musical</td>\n",
              "      <td>USA</td>\n",
              "      <td>English</td>\n",
              "      <td>NaN</td>\n",
              "      <td>NaN</td>\n",
              "      <td>NaN</td>\n",
              "      <td>87.0</td>\n",
              "      <td>Universal Pictures</td>\n",
              "      <td>NaN</td>\n",
              "      <td>NaN</td>\n",
              "      <td>NaN</td>\n",
              "      <td>14.448684</td>\n",
              "      <td>castIDs_not_provided</td>\n",
              "      <td>0</td>\n",
              "      <td>0</td>\n",
              "      <td>0</td>\n",
              "      <td>6.0</td>\n",
              "      <td>1.0</td>\n",
              "      <td>wife</td>\n",
              "    </tr>\n",
              "    <tr>\n",
              "      <th>tt2293060</th>\n",
              "      <td>Americons</td>\n",
              "      <td>Americons</td>\n",
              "      <td>2015-01-22</td>\n",
              "      <td>2015.0</td>\n",
              "      <td>5.1</td>\n",
              "      <td>345.0</td>\n",
              "      <td>25.0</td>\n",
              "      <td>2.0</td>\n",
              "      <td>5.0</td>\n",
              "      <td>Theo Avgerinos</td>\n",
              "      <td>Beau Martin Williams,Matt Funke</td>\n",
              "      <td>The year is 2007 and twenty percent of the sta...</td>\n",
              "      <td>Beau Martin Williams,Trai Byers,Sam McMurray,T...</td>\n",
              "      <td>Action,Biography,Crime,Drama</td>\n",
              "      <td>USA</td>\n",
              "      <td>English</td>\n",
              "      <td>$1250000</td>\n",
              "      <td>$28782</td>\n",
              "      <td>$28782</td>\n",
              "      <td>89.0</td>\n",
              "      <td>Industry Artists Group,Martin Entertainment Gr...</td>\n",
              "      <td>1250000.0</td>\n",
              "      <td>28782.0</td>\n",
              "      <td>28782.0</td>\n",
              "      <td>1.098100</td>\n",
              "      <td>/name/nm2842106/,/name/nm1784293/,/name/nm0573...</td>\n",
              "      <td>0</td>\n",
              "      <td>0</td>\n",
              "      <td>0</td>\n",
              "      <td>1.0</td>\n",
              "      <td>22.0</td>\n",
              "      <td>journey</td>\n",
              "    </tr>\n",
              "  </tbody>\n",
              "</table>\n",
              "</div>"
            ],
            "text/plain": [
              "                             name  ...                                           keywords\n",
              "movie_id                           ...                                                   \n",
              "tt1877707          The Black Hole  ...                                             school\n",
              "tt0811106                 The Ten  ...  police-officer,two-word-title,sabbath,surgeon,...\n",
              "tt2249125  The Los Angeles Ripper  ...                                  keys_not_provided\n",
              "tt0038157       That's the Spirit  ...                                               wife\n",
              "tt2293060               Americons  ...                                            journey\n",
              "\n",
              "[5 rows x 32 columns]"
            ]
          },
          "metadata": {
            "tags": []
          },
          "execution_count": 12
        }
      ]
    },
    {
      "cell_type": "markdown",
      "metadata": {
        "id": "dFwMzPq02l1J"
      },
      "source": [
        "## Using IMDBpy API:\n",
        "#### please note that it is better to use some sleep time between interations in order to avoid flooding the server with requests. Also, the key to finding movie metadata by this API is to use IMDB movie id. In the form of 'tt-------'. Finally, it is worth mentioning that although we already have some keywords associated with each title in our dataset, this method will yield all available keywords for each movie."
      ]
    },
    {
      "cell_type": "code",
      "metadata": {
        "colab": {
          "base_uri": "https://localhost:8080/"
        },
        "id": "Y2l0eE8PhDwD",
        "outputId": "1426bbc1-2c7c-4d71-e558-d137fd0718ef"
      },
      "source": [
        "ia = IMDb()\n",
        "keywords_dict = {}\n",
        "for movie_index in tqdm(movies_index):\n",
        "    sleep(0.5)\n",
        "    try:\n",
        "        keywords_dict[movie_index] = ia.get_movie_keywords(movie_index[2:])['data']['keywords']\n",
        "    except:\n",
        "        keywords_dict[movie_index] = '' "
      ],
      "execution_count": 13,
      "outputs": [
        {
          "output_type": "stream",
          "text": [
            "100%|██████████| 100/100 [02:47<00:00,  1.67s/it]\n"
          ],
          "name": "stderr"
        }
      ]
    },
    {
      "cell_type": "code",
      "metadata": {
        "id": "2EQBhBk_O_KN"
      },
      "source": [
        "keywords = pd.DataFrame(dict([ (k,pd.Series(v)) for k,v in keywords_dict.items() ])).transpose()\n",
        "keywords = keywords.apply(lambda x: ','.join(x.dropna()), axis=1)\n",
        "keywords = pd.DataFrame(keywords) \n",
        "keywords.rename(columns={0:'keywords'}, inplace=True)\n",
        "keywords.index.rename('movie_id', inplace=True)\n",
        "keywords.to_csv('sample_keywords.csv')\n",
        "!cp sample_keywords.csv \"/content/drive/MyDrive/imdb_datasets\"  "
      ],
      "execution_count": 14,
      "outputs": []
    },
    {
      "cell_type": "code",
      "metadata": {
        "colab": {
          "base_uri": "https://localhost:8080/",
          "height": 419
        },
        "id": "i-JXgDqDlUK2",
        "outputId": "f7990800-1eeb-4caa-9379-62b856c06a36"
      },
      "source": [
        "key_df = pd.read_csv('/content/drive/MyDrive/imdb_datasets/sample_keywords.csv')\n",
        "key_df[key_df['keywords'].notnull()]"
      ],
      "execution_count": 16,
      "outputs": [
        {
          "output_type": "execute_result",
          "data": {
            "text/html": [
              "<div>\n",
              "<style scoped>\n",
              "    .dataframe tbody tr th:only-of-type {\n",
              "        vertical-align: middle;\n",
              "    }\n",
              "\n",
              "    .dataframe tbody tr th {\n",
              "        vertical-align: top;\n",
              "    }\n",
              "\n",
              "    .dataframe thead th {\n",
              "        text-align: right;\n",
              "    }\n",
              "</style>\n",
              "<table border=\"1\" class=\"dataframe\">\n",
              "  <thead>\n",
              "    <tr style=\"text-align: right;\">\n",
              "      <th></th>\n",
              "      <th>movie_id</th>\n",
              "      <th>keywords</th>\n",
              "    </tr>\n",
              "  </thead>\n",
              "  <tbody>\n",
              "    <tr>\n",
              "      <th>0</th>\n",
              "      <td>tt1877707</td>\n",
              "      <td>school</td>\n",
              "    </tr>\n",
              "    <tr>\n",
              "      <th>1</th>\n",
              "      <td>tt0811106</td>\n",
              "      <td>police-officer,two-word-title,sabbath,surgeon,...</td>\n",
              "    </tr>\n",
              "    <tr>\n",
              "      <th>3</th>\n",
              "      <td>tt0038157</td>\n",
              "      <td>wife</td>\n",
              "    </tr>\n",
              "    <tr>\n",
              "      <th>4</th>\n",
              "      <td>tt2293060</td>\n",
              "      <td>journey</td>\n",
              "    </tr>\n",
              "    <tr>\n",
              "      <th>5</th>\n",
              "      <td>tt0016381</td>\n",
              "      <td>b-movie,double-feature-film,race-car-driver,ra...</td>\n",
              "    </tr>\n",
              "    <tr>\n",
              "      <th>...</th>\n",
              "      <td>...</td>\n",
              "      <td>...</td>\n",
              "    </tr>\n",
              "    <tr>\n",
              "      <th>93</th>\n",
              "      <td>tt0045502</td>\n",
              "      <td>yuma-arizona,arizona-territory,sonora-mexico,y...</td>\n",
              "    </tr>\n",
              "    <tr>\n",
              "      <th>94</th>\n",
              "      <td>tt0034432</td>\n",
              "      <td>murder,assumed-name,small-town,radio-program,b...</td>\n",
              "    </tr>\n",
              "    <tr>\n",
              "      <th>95</th>\n",
              "      <td>tt3081722</td>\n",
              "      <td>friendship</td>\n",
              "    </tr>\n",
              "    <tr>\n",
              "      <th>97</th>\n",
              "      <td>tt0181594</td>\n",
              "      <td>jewish-brigade,israel,refugee,holocaust,palest...</td>\n",
              "    </tr>\n",
              "    <tr>\n",
              "      <th>99</th>\n",
              "      <td>tt0076210</td>\n",
              "      <td>anthropomorphic-animal,human-becoming-an-anima...</td>\n",
              "    </tr>\n",
              "  </tbody>\n",
              "</table>\n",
              "<p>74 rows × 2 columns</p>\n",
              "</div>"
            ],
            "text/plain": [
              "     movie_id                                           keywords\n",
              "0   tt1877707                                             school\n",
              "1   tt0811106  police-officer,two-word-title,sabbath,surgeon,...\n",
              "3   tt0038157                                               wife\n",
              "4   tt2293060                                            journey\n",
              "5   tt0016381  b-movie,double-feature-film,race-car-driver,ra...\n",
              "..        ...                                                ...\n",
              "93  tt0045502  yuma-arizona,arizona-territory,sonora-mexico,y...\n",
              "94  tt0034432  murder,assumed-name,small-town,radio-program,b...\n",
              "95  tt3081722                                         friendship\n",
              "97  tt0181594  jewish-brigade,israel,refugee,holocaust,palest...\n",
              "99  tt0076210  anthropomorphic-animal,human-becoming-an-anima...\n",
              "\n",
              "[74 rows x 2 columns]"
            ]
          },
          "metadata": {
            "tags": []
          },
          "execution_count": 16
        }
      ]
    },
    {
      "cell_type": "code",
      "metadata": {
        "id": "UssclMqNDbyK"
      },
      "source": [
        ""
      ],
      "execution_count": null,
      "outputs": []
    }
  ]
}